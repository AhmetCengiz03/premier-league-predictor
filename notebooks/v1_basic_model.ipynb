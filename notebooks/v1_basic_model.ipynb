{
 "cells": [
  {
   "cell_type": "markdown",
   "id": "7d36c86d",
   "metadata": {},
   "source": [
    "# Imports"
   ]
  },
  {
   "cell_type": "code",
   "execution_count": 75,
   "id": "e39d621d",
   "metadata": {},
   "outputs": [],
   "source": [
    "import pandas as pd\n",
    "from sklearn.model_selection import train_test_split\n",
    "from sklearn.ensemble import RandomForestClassifier\n",
    "from sklearn.metrics import accuracy_score\n",
    "from sklearn.preprocessing import OrdinalEncoder"
   ]
  },
  {
   "cell_type": "markdown",
   "id": "d2588c64",
   "metadata": {},
   "source": [
    "# Set Up"
   ]
  },
  {
   "cell_type": "code",
   "execution_count": 76,
   "id": "3cb16f8a",
   "metadata": {},
   "outputs": [],
   "source": [
    "df_2023 = pd.read_csv('../data/EPL_2022_2023.csv')\n",
    "\n",
    "df_2023 = df_2023[['HomeTeam', 'AwayTeam', 'FTHG', 'FTAG', 'FTR', 'HS', 'AS']]\n",
    "\n",
    "\n",
    "y = df_2023['FTR']\n",
    "\n",
    "\n",
    "team_encoder = OrdinalEncoder()\n",
    "df_2023[['HomeID', 'AwayID']] = team_encoder.fit_transform(\n",
    "    df_2023[['HomeTeam', 'AwayTeam']])\n",
    "\n",
    "df_2023['ShotDiff'] = df_2023['HS'] - df_2023['AS']"
   ]
  },
  {
   "cell_type": "markdown",
   "id": "804f6b20",
   "metadata": {},
   "source": [
    "# Training"
   ]
  },
  {
   "cell_type": "code",
   "execution_count": 77,
   "id": "3cdca788",
   "metadata": {},
   "outputs": [],
   "source": [
    "X = df_2023[['HomeID', 'AwayID', 'ShotDiff']]\n",
    "y = df_2023['FTR']\n",
    "\n",
    "X_train, X_test, y_train, y_test = train_test_split(\n",
    "    X, y, test_size=0.2, random_state=10)"
   ]
  },
  {
   "cell_type": "code",
   "execution_count": 78,
   "id": "ad92aca5",
   "metadata": {},
   "outputs": [
    {
     "name": "stdout",
     "output_type": "stream",
     "text": [
      "Accuracy: 0.4868421052631579\n"
     ]
    }
   ],
   "source": [
    "model = RandomForestClassifier(random_state=10)\n",
    "model.fit(X_train, y_train)\n",
    "preds = model.predict(X_test)\n",
    "\n",
    "print(\"Accuracy:\", accuracy_score(y_test, preds))"
   ]
  }
 ],
 "metadata": {
  "kernelspec": {
   "display_name": ".venv",
   "language": "python",
   "name": "python3"
  },
  "language_info": {
   "codemirror_mode": {
    "name": "ipython",
    "version": 3
   },
   "file_extension": ".py",
   "mimetype": "text/x-python",
   "name": "python",
   "nbconvert_exporter": "python",
   "pygments_lexer": "ipython3",
   "version": "3.13.2"
  }
 },
 "nbformat": 4,
 "nbformat_minor": 5
}
