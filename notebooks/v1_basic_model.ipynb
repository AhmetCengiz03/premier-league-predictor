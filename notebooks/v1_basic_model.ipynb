{
 "cells": [
  {
   "cell_type": "markdown",
   "id": "7d36c86d",
   "metadata": {},
   "source": [
    "# Imports"
   ]
  },
  {
   "cell_type": "code",
   "execution_count": null,
   "id": "e39d621d",
   "metadata": {},
   "outputs": [],
   "source": [
    "import pandas as pd\n",
    "from sklearn.model_selection import train_test_split\n",
    "from sklearn.ensemble import RandomForestClassifier\n",
    "from sklearn.metrics import accuracy_score\n",
    "from sklearn.preprocessing import OrdinalEncoder"
   ]
  },
  {
   "cell_type": "markdown",
   "id": "f8a4f9f3",
   "metadata": {},
   "source": [
    "# Useful functions"
   ]
  },
  {
   "cell_type": "code",
   "execution_count": null,
   "id": "73f02b7c",
   "metadata": {},
   "outputs": [],
   "source": [
    "def add_rolling_averages(df: pd.DataFrame, n: int = 5) -> pd.DataFrame:\n",
    "    \"\"\"Adds rolling average goals for Home and Away teams.\"\"\"\n",
    "    team_stats = {}\n",
    "\n",
    "    home_avgs = []\n",
    "    away_avgs = []\n",
    "\n",
    "    for _, row in df.iterrows():\n",
    "        home = row['HomeTeam']\n",
    "        away = row['AwayTeam']\n",
    "        fthg = row['FTHG']\n",
    "        ftag = row['FTAG']\n",
    "\n",
    "        home_prev = team_stats.get(home, {'GF': []})\n",
    "        away_prev = team_stats.get(away, {'GF': []})\n",
    "\n",
    "        home_avg = sum(home_prev['GF'][-n:]) / \\\n",
    "            min(len(home_prev['GF']), n) if home_prev['GF'] else 0\n",
    "        away_avg = sum(away_prev['GF'][-n:]) / \\\n",
    "            min(len(away_prev['GF']), n) if away_prev['GF'] else 0\n",
    "\n",
    "        home_avgs.append(home_avg)\n",
    "        away_avgs.append(away_avg)\n",
    "\n",
    "        team_stats[home] = {'GF': home_prev['GF'] + [fthg]}\n",
    "        team_stats[away] = {'GF': away_prev['GF'] + [ftag]}\n",
    "\n",
    "    df['HomeGoalsAvg'] = home_avgs\n",
    "    df['AwayGoalsAvg'] = away_avgs\n",
    "    return df"
   ]
  },
  {
   "cell_type": "markdown",
   "id": "d2588c64",
   "metadata": {},
   "source": [
    "# Set Up"
   ]
  },
  {
   "cell_type": "code",
   "execution_count": 88,
   "id": "3cb16f8a",
   "metadata": {},
   "outputs": [],
   "source": [
    "df_2023 = pd.read_csv('../data/EPL_2022_2023.csv')\n",
    "\n",
    "df_2023 = df_2023[['HomeTeam', 'AwayTeam', 'FTHG', 'FTAG', 'FTR', 'HS', 'AS']]\n",
    "\n",
    "\n",
    "y = df_2023['FTR']\n",
    "\n",
    "\n",
    "team_encoder = OrdinalEncoder()\n",
    "df_2023[['HomeID', 'AwayID']] = team_encoder.fit_transform(\n",
    "    df_2023[['HomeTeam', 'AwayTeam']])\n",
    "\n",
    "df_2023['ShotDiff'] = df_2023['HS'] - df_2023['AS']\n",
    "\n",
    "df_2023 = add_rolling_averages(df_2023, n=5)"
   ]
  },
  {
   "cell_type": "markdown",
   "id": "804f6b20",
   "metadata": {},
   "source": [
    "# Training"
   ]
  },
  {
   "cell_type": "code",
   "execution_count": 89,
   "id": "3cdca788",
   "metadata": {},
   "outputs": [],
   "source": [
    "X = df_2023[['HomeID', 'AwayID', 'ShotDiff', 'HomeGoalsAvg', 'AwayGoalsAvg']]\n",
    "y = df_2023['FTR']\n",
    "\n",
    "X_train, X_test, y_train, y_test = train_test_split(\n",
    "    X, y, test_size=0.2, random_state=10)"
   ]
  },
  {
   "cell_type": "code",
   "execution_count": 90,
   "id": "ad92aca5",
   "metadata": {},
   "outputs": [
    {
     "name": "stdout",
     "output_type": "stream",
     "text": [
      "Accuracy: 0.5657894736842105\n"
     ]
    }
   ],
   "source": [
    "model = RandomForestClassifier(random_state=10)\n",
    "model.fit(X_train, y_train)\n",
    "preds = model.predict(X_test)\n",
    "\n",
    "print(\"Accuracy:\", accuracy_score(y_test, preds))"
   ]
  }
 ],
 "metadata": {
  "kernelspec": {
   "display_name": ".venv",
   "language": "python",
   "name": "python3"
  },
  "language_info": {
   "codemirror_mode": {
    "name": "ipython",
    "version": 3
   },
   "file_extension": ".py",
   "mimetype": "text/x-python",
   "name": "python",
   "nbconvert_exporter": "python",
   "pygments_lexer": "ipython3",
   "version": "3.13.2"
  }
 },
 "nbformat": 4,
 "nbformat_minor": 5
}
